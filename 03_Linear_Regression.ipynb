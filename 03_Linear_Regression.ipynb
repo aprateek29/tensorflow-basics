{
  "nbformat": 4,
  "nbformat_minor": 0,
  "metadata": {
    "colab": {
      "name": "03 Linear Regression.ipynb",
      "provenance": [],
      "collapsed_sections": []
    },
    "kernelspec": {
      "name": "python3",
      "display_name": "Python 3"
    }
  },
  "cells": [
    {
      "cell_type": "markdown",
      "metadata": {
        "id": "TeoShsxOVNH5"
      },
      "source": [
        "### **Description**:Learn how to use Linear Regression in Tensorflow\n",
        "\n",
        "I used a Auto Mpg dataset to find the mileage of different vehicles."
      ]
    },
    {
      "cell_type": "code",
      "metadata": {
        "id": "8bmGUg3VFns8"
      },
      "source": [
        "import matplotlib.pyplot as plt\n",
        "import numpy as np\n",
        "import pandas as pd\n",
        "\n",
        "np.set_printoptions(precision=3, suppress=True)"
      ],
      "execution_count": 1,
      "outputs": []
    },
    {
      "cell_type": "code",
      "metadata": {
        "id": "lXk4y1KZFwSz"
      },
      "source": [
        "import tensorflow as tf\n",
        "from tensorflow import keras\n",
        "from tensorflow.keras import layers\n",
        "from tensorflow.keras.layers.experimental import preprocessing"
      ],
      "execution_count": 2,
      "outputs": []
    },
    {
      "cell_type": "code",
      "metadata": {
        "id": "-xrrhEFxGChO"
      },
      "source": [
        "url = 'http://archive.ics.uci.edu/ml/machine-learning-databases/auto-mpg/auto-mpg.data'\n",
        "column_names = ['MPG', 'Cylinders', 'Displacement', 'Horsepower', 'Weight', \n",
        "                'Acceleration', 'Model Year', 'Origin']\n",
        "\n",
        "dataset = pd.read_csv(url, names=column_names, na_values='?', comment='\\t', sep=' ', skipinitialspace=True)"
      ],
      "execution_count": 3,
      "outputs": []
    },
    {
      "cell_type": "code",
      "metadata": {
        "colab": {
          "base_uri": "https://localhost:8080/",
          "height": 212
        },
        "id": "_dC70N97Gphi",
        "outputId": "feb46f10-f127-4dcc-95c5-e28b1adce89c"
      },
      "source": [
        "dataset.tail()"
      ],
      "execution_count": 4,
      "outputs": [
        {
          "output_type": "execute_result",
          "data": {
            "text/html": [
              "<div>\n",
              "<style scoped>\n",
              "    .dataframe tbody tr th:only-of-type {\n",
              "        vertical-align: middle;\n",
              "    }\n",
              "\n",
              "    .dataframe tbody tr th {\n",
              "        vertical-align: top;\n",
              "    }\n",
              "\n",
              "    .dataframe thead th {\n",
              "        text-align: right;\n",
              "    }\n",
              "</style>\n",
              "<table border=\"1\" class=\"dataframe\">\n",
              "  <thead>\n",
              "    <tr style=\"text-align: right;\">\n",
              "      <th></th>\n",
              "      <th>MPG</th>\n",
              "      <th>Cylinders</th>\n",
              "      <th>Displacement</th>\n",
              "      <th>Horsepower</th>\n",
              "      <th>Weight</th>\n",
              "      <th>Acceleration</th>\n",
              "      <th>Model Year</th>\n",
              "      <th>Origin</th>\n",
              "    </tr>\n",
              "  </thead>\n",
              "  <tbody>\n",
              "    <tr>\n",
              "      <th>393</th>\n",
              "      <td>27.0</td>\n",
              "      <td>4</td>\n",
              "      <td>140.0</td>\n",
              "      <td>86.0</td>\n",
              "      <td>2790.0</td>\n",
              "      <td>15.6</td>\n",
              "      <td>82</td>\n",
              "      <td>1</td>\n",
              "    </tr>\n",
              "    <tr>\n",
              "      <th>394</th>\n",
              "      <td>44.0</td>\n",
              "      <td>4</td>\n",
              "      <td>97.0</td>\n",
              "      <td>52.0</td>\n",
              "      <td>2130.0</td>\n",
              "      <td>24.6</td>\n",
              "      <td>82</td>\n",
              "      <td>2</td>\n",
              "    </tr>\n",
              "    <tr>\n",
              "      <th>395</th>\n",
              "      <td>32.0</td>\n",
              "      <td>4</td>\n",
              "      <td>135.0</td>\n",
              "      <td>84.0</td>\n",
              "      <td>2295.0</td>\n",
              "      <td>11.6</td>\n",
              "      <td>82</td>\n",
              "      <td>1</td>\n",
              "    </tr>\n",
              "    <tr>\n",
              "      <th>396</th>\n",
              "      <td>28.0</td>\n",
              "      <td>4</td>\n",
              "      <td>120.0</td>\n",
              "      <td>79.0</td>\n",
              "      <td>2625.0</td>\n",
              "      <td>18.6</td>\n",
              "      <td>82</td>\n",
              "      <td>1</td>\n",
              "    </tr>\n",
              "    <tr>\n",
              "      <th>397</th>\n",
              "      <td>31.0</td>\n",
              "      <td>4</td>\n",
              "      <td>119.0</td>\n",
              "      <td>82.0</td>\n",
              "      <td>2720.0</td>\n",
              "      <td>19.4</td>\n",
              "      <td>82</td>\n",
              "      <td>1</td>\n",
              "    </tr>\n",
              "  </tbody>\n",
              "</table>\n",
              "</div>"
            ],
            "text/plain": [
              "      MPG  Cylinders  Displacement  ...  Acceleration  Model Year  Origin\n",
              "393  27.0          4         140.0  ...          15.6          82       1\n",
              "394  44.0          4          97.0  ...          24.6          82       2\n",
              "395  32.0          4         135.0  ...          11.6          82       1\n",
              "396  28.0          4         120.0  ...          18.6          82       1\n",
              "397  31.0          4         119.0  ...          19.4          82       1\n",
              "\n",
              "[5 rows x 8 columns]"
            ]
          },
          "metadata": {
            "tags": []
          },
          "execution_count": 4
        }
      ]
    },
    {
      "cell_type": "code",
      "metadata": {
        "id": "66c_iUP6GziD"
      },
      "source": [
        "# clean data\n",
        "dataset = dataset.dropna()\n",
        "\n",
        "#convert categorical 'Origin' data into one-hot data\n",
        "origin = dataset.pop('Origin')\n",
        "dataset['USA'] = (origin==1) * 1\n",
        "dataset['Europe'] = (origin==2) * 1\n",
        "dataset['Japan'] = (origin==3) * 1"
      ],
      "execution_count": 5,
      "outputs": []
    },
    {
      "cell_type": "code",
      "metadata": {
        "colab": {
          "base_uri": "https://localhost:8080/",
          "height": 232
        },
        "id": "YBKqVcaDGmbO",
        "outputId": "8a38a148-e2ce-403a-bcaa-326a86b603dc"
      },
      "source": [
        "dataset.tail()"
      ],
      "execution_count": 6,
      "outputs": [
        {
          "output_type": "execute_result",
          "data": {
            "text/html": [
              "<div>\n",
              "<style scoped>\n",
              "    .dataframe tbody tr th:only-of-type {\n",
              "        vertical-align: middle;\n",
              "    }\n",
              "\n",
              "    .dataframe tbody tr th {\n",
              "        vertical-align: top;\n",
              "    }\n",
              "\n",
              "    .dataframe thead th {\n",
              "        text-align: right;\n",
              "    }\n",
              "</style>\n",
              "<table border=\"1\" class=\"dataframe\">\n",
              "  <thead>\n",
              "    <tr style=\"text-align: right;\">\n",
              "      <th></th>\n",
              "      <th>MPG</th>\n",
              "      <th>Cylinders</th>\n",
              "      <th>Displacement</th>\n",
              "      <th>Horsepower</th>\n",
              "      <th>Weight</th>\n",
              "      <th>Acceleration</th>\n",
              "      <th>Model Year</th>\n",
              "      <th>USA</th>\n",
              "      <th>Europe</th>\n",
              "      <th>Japan</th>\n",
              "    </tr>\n",
              "  </thead>\n",
              "  <tbody>\n",
              "    <tr>\n",
              "      <th>393</th>\n",
              "      <td>27.0</td>\n",
              "      <td>4</td>\n",
              "      <td>140.0</td>\n",
              "      <td>86.0</td>\n",
              "      <td>2790.0</td>\n",
              "      <td>15.6</td>\n",
              "      <td>82</td>\n",
              "      <td>1</td>\n",
              "      <td>0</td>\n",
              "      <td>0</td>\n",
              "    </tr>\n",
              "    <tr>\n",
              "      <th>394</th>\n",
              "      <td>44.0</td>\n",
              "      <td>4</td>\n",
              "      <td>97.0</td>\n",
              "      <td>52.0</td>\n",
              "      <td>2130.0</td>\n",
              "      <td>24.6</td>\n",
              "      <td>82</td>\n",
              "      <td>0</td>\n",
              "      <td>1</td>\n",
              "      <td>0</td>\n",
              "    </tr>\n",
              "    <tr>\n",
              "      <th>395</th>\n",
              "      <td>32.0</td>\n",
              "      <td>4</td>\n",
              "      <td>135.0</td>\n",
              "      <td>84.0</td>\n",
              "      <td>2295.0</td>\n",
              "      <td>11.6</td>\n",
              "      <td>82</td>\n",
              "      <td>1</td>\n",
              "      <td>0</td>\n",
              "      <td>0</td>\n",
              "    </tr>\n",
              "    <tr>\n",
              "      <th>396</th>\n",
              "      <td>28.0</td>\n",
              "      <td>4</td>\n",
              "      <td>120.0</td>\n",
              "      <td>79.0</td>\n",
              "      <td>2625.0</td>\n",
              "      <td>18.6</td>\n",
              "      <td>82</td>\n",
              "      <td>1</td>\n",
              "      <td>0</td>\n",
              "      <td>0</td>\n",
              "    </tr>\n",
              "    <tr>\n",
              "      <th>397</th>\n",
              "      <td>31.0</td>\n",
              "      <td>4</td>\n",
              "      <td>119.0</td>\n",
              "      <td>82.0</td>\n",
              "      <td>2720.0</td>\n",
              "      <td>19.4</td>\n",
              "      <td>82</td>\n",
              "      <td>1</td>\n",
              "      <td>0</td>\n",
              "      <td>0</td>\n",
              "    </tr>\n",
              "  </tbody>\n",
              "</table>\n",
              "</div>"
            ],
            "text/plain": [
              "      MPG  Cylinders  Displacement  Horsepower  ...  Model Year  USA  Europe  Japan\n",
              "393  27.0          4         140.0        86.0  ...          82    1       0      0\n",
              "394  44.0          4          97.0        52.0  ...          82    0       1      0\n",
              "395  32.0          4         135.0        84.0  ...          82    1       0      0\n",
              "396  28.0          4         120.0        79.0  ...          82    1       0      0\n",
              "397  31.0          4         119.0        82.0  ...          82    1       0      0\n",
              "\n",
              "[5 rows x 10 columns]"
            ]
          },
          "metadata": {
            "tags": []
          },
          "execution_count": 6
        }
      ]
    },
    {
      "cell_type": "code",
      "metadata": {
        "colab": {
          "base_uri": "https://localhost:8080/",
          "height": 360
        },
        "id": "iqHqgZ3THIur",
        "outputId": "0e41b0c2-33a4-41ab-fe76-98b7323bc7ec"
      },
      "source": [
        "# Split the data into train and test\n",
        "train_dataset = dataset.sample(frac=0.8, random_state=0)\n",
        "test_dataset = dataset.drop(train_dataset.index)\n",
        "\n",
        "print(dataset.shape, train_dataset.shape, test_dataset.shape)\n",
        "train_dataset.describe().transpose()"
      ],
      "execution_count": 7,
      "outputs": [
        {
          "output_type": "stream",
          "text": [
            "(392, 10) (314, 10) (78, 10)\n"
          ],
          "name": "stdout"
        },
        {
          "output_type": "execute_result",
          "data": {
            "text/html": [
              "<div>\n",
              "<style scoped>\n",
              "    .dataframe tbody tr th:only-of-type {\n",
              "        vertical-align: middle;\n",
              "    }\n",
              "\n",
              "    .dataframe tbody tr th {\n",
              "        vertical-align: top;\n",
              "    }\n",
              "\n",
              "    .dataframe thead th {\n",
              "        text-align: right;\n",
              "    }\n",
              "</style>\n",
              "<table border=\"1\" class=\"dataframe\">\n",
              "  <thead>\n",
              "    <tr style=\"text-align: right;\">\n",
              "      <th></th>\n",
              "      <th>count</th>\n",
              "      <th>mean</th>\n",
              "      <th>std</th>\n",
              "      <th>min</th>\n",
              "      <th>25%</th>\n",
              "      <th>50%</th>\n",
              "      <th>75%</th>\n",
              "      <th>max</th>\n",
              "    </tr>\n",
              "  </thead>\n",
              "  <tbody>\n",
              "    <tr>\n",
              "      <th>MPG</th>\n",
              "      <td>314.0</td>\n",
              "      <td>23.310510</td>\n",
              "      <td>7.728652</td>\n",
              "      <td>10.0</td>\n",
              "      <td>17.00</td>\n",
              "      <td>22.0</td>\n",
              "      <td>28.95</td>\n",
              "      <td>46.6</td>\n",
              "    </tr>\n",
              "    <tr>\n",
              "      <th>Cylinders</th>\n",
              "      <td>314.0</td>\n",
              "      <td>5.477707</td>\n",
              "      <td>1.699788</td>\n",
              "      <td>3.0</td>\n",
              "      <td>4.00</td>\n",
              "      <td>4.0</td>\n",
              "      <td>8.00</td>\n",
              "      <td>8.0</td>\n",
              "    </tr>\n",
              "    <tr>\n",
              "      <th>Displacement</th>\n",
              "      <td>314.0</td>\n",
              "      <td>195.318471</td>\n",
              "      <td>104.331589</td>\n",
              "      <td>68.0</td>\n",
              "      <td>105.50</td>\n",
              "      <td>151.0</td>\n",
              "      <td>265.75</td>\n",
              "      <td>455.0</td>\n",
              "    </tr>\n",
              "    <tr>\n",
              "      <th>Horsepower</th>\n",
              "      <td>314.0</td>\n",
              "      <td>104.869427</td>\n",
              "      <td>38.096214</td>\n",
              "      <td>46.0</td>\n",
              "      <td>76.25</td>\n",
              "      <td>94.5</td>\n",
              "      <td>128.00</td>\n",
              "      <td>225.0</td>\n",
              "    </tr>\n",
              "    <tr>\n",
              "      <th>Weight</th>\n",
              "      <td>314.0</td>\n",
              "      <td>2990.251592</td>\n",
              "      <td>843.898596</td>\n",
              "      <td>1649.0</td>\n",
              "      <td>2256.50</td>\n",
              "      <td>2822.5</td>\n",
              "      <td>3608.00</td>\n",
              "      <td>5140.0</td>\n",
              "    </tr>\n",
              "    <tr>\n",
              "      <th>Acceleration</th>\n",
              "      <td>314.0</td>\n",
              "      <td>15.559236</td>\n",
              "      <td>2.789230</td>\n",
              "      <td>8.0</td>\n",
              "      <td>13.80</td>\n",
              "      <td>15.5</td>\n",
              "      <td>17.20</td>\n",
              "      <td>24.8</td>\n",
              "    </tr>\n",
              "    <tr>\n",
              "      <th>Model Year</th>\n",
              "      <td>314.0</td>\n",
              "      <td>75.898089</td>\n",
              "      <td>3.675642</td>\n",
              "      <td>70.0</td>\n",
              "      <td>73.00</td>\n",
              "      <td>76.0</td>\n",
              "      <td>79.00</td>\n",
              "      <td>82.0</td>\n",
              "    </tr>\n",
              "    <tr>\n",
              "      <th>USA</th>\n",
              "      <td>314.0</td>\n",
              "      <td>0.624204</td>\n",
              "      <td>0.485101</td>\n",
              "      <td>0.0</td>\n",
              "      <td>0.00</td>\n",
              "      <td>1.0</td>\n",
              "      <td>1.00</td>\n",
              "      <td>1.0</td>\n",
              "    </tr>\n",
              "    <tr>\n",
              "      <th>Europe</th>\n",
              "      <td>314.0</td>\n",
              "      <td>0.178344</td>\n",
              "      <td>0.383413</td>\n",
              "      <td>0.0</td>\n",
              "      <td>0.00</td>\n",
              "      <td>0.0</td>\n",
              "      <td>0.00</td>\n",
              "      <td>1.0</td>\n",
              "    </tr>\n",
              "    <tr>\n",
              "      <th>Japan</th>\n",
              "      <td>314.0</td>\n",
              "      <td>0.197452</td>\n",
              "      <td>0.398712</td>\n",
              "      <td>0.0</td>\n",
              "      <td>0.00</td>\n",
              "      <td>0.0</td>\n",
              "      <td>0.00</td>\n",
              "      <td>1.0</td>\n",
              "    </tr>\n",
              "  </tbody>\n",
              "</table>\n",
              "</div>"
            ],
            "text/plain": [
              "              count         mean         std  ...     50%      75%     max\n",
              "MPG           314.0    23.310510    7.728652  ...    22.0    28.95    46.6\n",
              "Cylinders     314.0     5.477707    1.699788  ...     4.0     8.00     8.0\n",
              "Displacement  314.0   195.318471  104.331589  ...   151.0   265.75   455.0\n",
              "Horsepower    314.0   104.869427   38.096214  ...    94.5   128.00   225.0\n",
              "Weight        314.0  2990.251592  843.898596  ...  2822.5  3608.00  5140.0\n",
              "Acceleration  314.0    15.559236    2.789230  ...    15.5    17.20    24.8\n",
              "Model Year    314.0    75.898089    3.675642  ...    76.0    79.00    82.0\n",
              "USA           314.0     0.624204    0.485101  ...     1.0     1.00     1.0\n",
              "Europe        314.0     0.178344    0.383413  ...     0.0     0.00     1.0\n",
              "Japan         314.0     0.197452    0.398712  ...     0.0     0.00     1.0\n",
              "\n",
              "[10 rows x 8 columns]"
            ]
          },
          "metadata": {
            "tags": []
          },
          "execution_count": 7
        }
      ]
    },
    {
      "cell_type": "code",
      "metadata": {
        "id": "hCeXIK4kHhRK"
      },
      "source": [
        "# split features from labels\n",
        "train_features = train_dataset.copy()\n",
        "test_features = test_dataset.copy()\n",
        "\n",
        "train_labels = train_features.pop('MPG')\n",
        "test_labels = test_features.pop('MPG')"
      ],
      "execution_count": 8,
      "outputs": []
    },
    {
      "cell_type": "code",
      "metadata": {
        "id": "slkOPSYlH0wq"
      },
      "source": [
        "def plot(feature, x=None, y=None):\n",
        "  plt.figure(figsize=(10, 8))\n",
        "  plt.scatter(train_features[feature], train_labels, label='Data')\n",
        "  if x is not None and y is not None:\n",
        "    plt.plot(x, y, color='k', label='Predictions')\n",
        "  plt.xlabel(feature)\n",
        "  plt.ylabel('MPG')\n",
        "  plt.legend()"
      ],
      "execution_count": 9,
      "outputs": []
    },
    {
      "cell_type": "code",
      "metadata": {
        "colab": {
          "base_uri": "https://localhost:8080/",
          "height": 497
        },
        "id": "ocL9ohsNIMCS",
        "outputId": "47f6bee0-91b4-492d-aba3-36e1511c12ec"
      },
      "source": [
        "plot('Horsepower')"
      ],
      "execution_count": 10,
      "outputs": [
        {
          "output_type": "display_data",
          "data": {
            "image/png": "[encoded data removed]",
            "text/plain": [
              "<Figure size 720x576 with 1 Axes>"
            ]
          },
          "metadata": {
            "tags": [],
            "needs_background": "light"
          }
        }
      ]
    },
    {
      "cell_type": "code",
      "metadata": {
        "colab": {
          "base_uri": "https://localhost:8080/",
          "height": 497
        },
        "id": "uKqcFCnEIOuW",
        "outputId": "4ca0b423-879b-40b5-9675-68944b7abbb0"
      },
      "source": [
        "plot('Weight')"
      ],
      "execution_count": 11,
      "outputs": [
        {
          "output_type": "display_data",
          "data": {
            "image/png": "[encoded data removed]",
            "text/plain": [
              "<Figure size 720x576 with 1 Axes>"
            ]
          },
          "metadata": {
            "tags": [],
            "needs_background": "light"
          }
        }
      ]
    },
    {
      "cell_type": "code",
      "metadata": {
        "colab": {
          "base_uri": "https://localhost:8080/"
        },
        "id": "duB30688IRKa",
        "outputId": "929a5d0a-7522-4bee-8d5f-956288f95f5b"
      },
      "source": [
        " # Normalize\n",
        " print(train_dataset.describe().transpose()[['mean', 'std']])\n",
        "\n",
        " # Normalization\n",
        " normalizer = preprocessing.Normalization()\n",
        "\n",
        " # adapt to the data\n",
        " normalizer.adapt(np.array(train_features))\n",
        " print(normalizer.mean.numpy())"
      ],
      "execution_count": 12,
      "outputs": [
        {
          "output_type": "stream",
          "text": [
            "                     mean         std\n",
            "MPG             23.310510    7.728652\n",
            "Cylinders        5.477707    1.699788\n",
            "Displacement   195.318471  104.331589\n",
            "Horsepower     104.869427   38.096214\n",
            "Weight        2990.251592  843.898596\n",
            "Acceleration    15.559236    2.789230\n",
            "Model Year      75.898089    3.675642\n",
            "USA              0.624204    0.485101\n",
            "Europe           0.178344    0.383413\n",
            "Japan            0.197452    0.398712\n",
            "[   5.478  195.318  104.869 2990.252   15.559   75.898    0.624    0.178\n",
            "    0.197]\n"
          ],
          "name": "stdout"
        }
      ]
    },
    {
      "cell_type": "code",
      "metadata": {
        "colab": {
          "base_uri": "https://localhost:8080/"
        },
        "id": "DxFL4MRsJwHr",
        "outputId": "4aa1267e-b61b-4e95-ff02-7e77785a6693"
      },
      "source": [
        "# When the layer is called it returns the input data, with each feature independently normalized:\n",
        "# (input - mean) / stddev\n",
        "first = np.array(train_features[:1])\n",
        "print('First Example:', first)\n",
        "print('Normalized:', normalizer(first).numpy())"
      ],
      "execution_count": 13,
      "outputs": [
        {
          "output_type": "stream",
          "text": [
            "First Example: [[   4.    90.    75.  2125.    14.5   74.     1.     0.     0. ]]\n",
            "Normalized: [[-0.871 -1.011 -0.785 -1.027 -0.38  -0.517  0.776 -0.466 -0.496]]\n"
          ],
          "name": "stdout"
        }
      ]
    },
    {
      "cell_type": "code",
      "metadata": {
        "colab": {
          "base_uri": "https://localhost:8080/"
        },
        "id": "hrJXITHkKJ6e",
        "outputId": "9b152c11-5196-41f7-a32f-17e4860eb5f0"
      },
      "source": [
        "# Regression\n",
        "  # 1. Normalize the input horsepower\n",
        "  # 2. Apply a linear transformation ( y = m*x+b ) to produce 1 output using layers.Dense\n",
        "\n",
        "feature = 'Horsepower'\n",
        "single_feature = np.array(train_features[feature])\n",
        "print(single_feature.shape, train_features.shape)\n",
        "\n",
        "# Normalization\n",
        "single_feature_normalizer = preprocessing.Normalization()\n",
        "\n",
        "# adapt to the data\n",
        "single_feature_normalizer.adapt(np.array(single_feature))\n",
        "print(normalizer.mean.numpy)"
      ],
      "execution_count": 14,
      "outputs": [
        {
          "output_type": "stream",
          "text": [
            "(314,) (314, 9)\n",
            "<bound method BaseResourceVariable.numpy of <tf.Variable 'mean:0' shape=(9,) dtype=float32, numpy=\n",
            "array([   5.478,  195.318,  104.869, 2990.252,   15.559,   75.898,\n",
            "          0.624,    0.178,    0.197], dtype=float32)>>\n"
          ],
          "name": "stdout"
        }
      ]
    },
    {
      "cell_type": "code",
      "metadata": {
        "id": "7eA7hFHNLh00"
      },
      "source": [
        "# Sequential model\n",
        "single_feature_model = keras.Sequential(\n",
        "    [\n",
        "     single_feature_normalizer,\n",
        "     layers.Dense(units=1)\n",
        "    ]\n",
        ")"
      ],
      "execution_count": 15,
      "outputs": []
    },
    {
      "cell_type": "code",
      "metadata": {
        "colab": {
          "base_uri": "https://localhost:8080/"
        },
        "id": "80lCmj0xKpBa",
        "outputId": "99f3356d-d121-457c-cf16-69d8204322b1"
      },
      "source": [
        "single_feature_model.summary()"
      ],
      "execution_count": 16,
      "outputs": [
        {
          "output_type": "stream",
          "text": [
            "Model: \"sequential\"\n",
            "_________________________________________________________________\n",
            "Layer (type)                 Output Shape              Param #   \n",
            "=================================================================\n",
            "normalization_1 (Normalizati (None, 1)                 3         \n",
            "_________________________________________________________________\n",
            "dense (Dense)                (None, 1)                 2         \n",
            "=================================================================\n",
            "Total params: 5\n",
            "Trainable params: 2\n",
            "Non-trainable params: 3\n",
            "_________________________________________________________________\n"
          ],
          "name": "stdout"
        }
      ]
    },
    {
      "cell_type": "code",
      "metadata": {
        "id": "8Jz_v2k8KrFi"
      },
      "source": [
        "# loss and optimizer\n",
        "loss = keras.losses.MeanAbsoluteError() # or MeanSquaredEror\n",
        "optim = keras.optimizers.Adam(learning_rate=0.01)\n",
        "\n",
        "single_feature_model.compile(\n",
        "    optimizer = optim,\n",
        "    loss = loss\n",
        ")"
      ],
      "execution_count": 17,
      "outputs": []
    },
    {
      "cell_type": "code",
      "metadata": {
        "colab": {
          "base_uri": "https://localhost:8080/"
        },
        "id": "C1pqzGWXxfss",
        "outputId": "2b4a7e87-c41a-4617-aa2b-8f5c747f8ffb"
      },
      "source": [
        "history = single_feature_model.fit(\n",
        "    train_features[feature], train_labels,\n",
        "    epochs=100,\n",
        "    verbose=1,\n",
        "    # Calculate validation results on 20% of the training data\n",
        "    validation_split = 0.2\n",
        ")"
      ],
      "execution_count": 18,
      "outputs": [
        {
          "output_type": "stream",
          "text": [
            "Epoch 1/100\n",
            "8/8 [==============================] - 0s 18ms/step - loss: 23.1696 - val_loss: 23.6564\n",
            "Epoch 2/100\n",
            "8/8 [==============================] - 0s 3ms/step - loss: 23.0897 - val_loss: 23.5765\n",
            "Epoch 3/100\n",
            "8/8 [==============================] - 0s 3ms/step - loss: 23.0096 - val_loss: 23.4965\n",
            "Epoch 4/100\n",
            "8/8 [==============================] - 0s 3ms/step - loss: 22.9295 - val_loss: 23.4165\n",
            "Epoch 5/100\n",
            "8/8 [==============================] - 0s 3ms/step - loss: 22.8494 - val_loss: 23.3365\n",
            "Epoch 6/100\n",
            "8/8 [==============================] - 0s 3ms/step - loss: 22.7694 - val_loss: 23.2565\n",
            "Epoch 7/100\n",
            "8/8 [==============================] - 0s 4ms/step - loss: 22.6896 - val_loss: 23.1764\n",
            "Epoch 8/100\n",
            "8/8 [==============================] - 0s 5ms/step - loss: 22.6098 - val_loss: 23.0965\n",
            "Epoch 9/100\n",
            "8/8 [==============================] - 0s 3ms/step - loss: 22.5296 - val_loss: 23.0165\n",
            "Epoch 10/100\n",
            "8/8 [==============================] - 0s 3ms/step - loss: 22.4494 - val_loss: 22.9365\n",
            "Epoch 11/100\n",
            "8/8 [==============================] - 0s 3ms/step - loss: 22.3694 - val_loss: 22.8565\n",
            "Epoch 12/100\n",
            "8/8 [==============================] - 0s 3ms/step - loss: 22.2895 - val_loss: 22.7765\n",
            "Epoch 13/100\n",
            "8/8 [==============================] - 0s 4ms/step - loss: 22.2098 - val_loss: 22.6964\n",
            "Epoch 14/100\n",
            "8/8 [==============================] - 0s 3ms/step - loss: 22.1294 - val_loss: 22.6165\n",
            "Epoch 15/100\n",
            "8/8 [==============================] - 0s 3ms/step - loss: 22.0504 - val_loss: 22.5365\n",
            "Epoch 16/100\n",
            "8/8 [==============================] - 0s 3ms/step - loss: 21.9695 - val_loss: 22.4565\n",
            "Epoch 17/100\n",
            "8/8 [==============================] - 0s 3ms/step - loss: 21.8896 - val_loss: 22.3764\n",
            "Epoch 18/100\n",
            "8/8 [==============================] - 0s 3ms/step - loss: 21.8099 - val_loss: 22.2965\n",
            "Epoch 19/100\n",
            "8/8 [==============================] - 0s 3ms/step - loss: 21.7295 - val_loss: 22.2164\n",
            "Epoch 20/100\n",
            "8/8 [==============================] - 0s 3ms/step - loss: 21.6495 - val_loss: 22.1364\n",
            "Epoch 21/100\n",
            "8/8 [==============================] - 0s 4ms/step - loss: 21.5697 - val_loss: 22.0565\n",
            "Epoch 22/100\n",
            "8/8 [==============================] - 0s 3ms/step - loss: 21.4894 - val_loss: 21.9765\n",
            "Epoch 23/100\n",
            "8/8 [==============================] - 0s 3ms/step - loss: 21.4095 - val_loss: 21.8965\n",
            "Epoch 24/100\n",
            "8/8 [==============================] - 0s 3ms/step - loss: 21.3293 - val_loss: 21.8165\n",
            "Epoch 25/100\n",
            "8/8 [==============================] - 0s 3ms/step - loss: 21.2494 - val_loss: 21.7364\n",
            "Epoch 26/100\n",
            "8/8 [==============================] - 0s 3ms/step - loss: 21.1694 - val_loss: 21.6564\n",
            "Epoch 27/100\n",
            "8/8 [==============================] - 0s 3ms/step - loss: 21.0895 - val_loss: 21.5765\n",
            "Epoch 28/100\n",
            "8/8 [==============================] - 0s 3ms/step - loss: 21.0094 - val_loss: 21.4964\n",
            "Epoch 29/100\n",
            "8/8 [==============================] - 0s 3ms/step - loss: 20.9294 - val_loss: 21.4164\n",
            "Epoch 30/100\n",
            "8/8 [==============================] - 0s 4ms/step - loss: 20.8498 - val_loss: 21.3364\n",
            "Epoch 31/100\n",
            "8/8 [==============================] - 0s 4ms/step - loss: 20.7694 - val_loss: 21.2564\n",
            "Epoch 32/100\n",
            "8/8 [==============================] - 0s 3ms/step - loss: 20.6893 - val_loss: 21.1764\n",
            "Epoch 33/100\n",
            "8/8 [==============================] - 0s 3ms/step - loss: 20.6096 - val_loss: 21.0965\n",
            "Epoch 34/100\n",
            "8/8 [==============================] - 0s 3ms/step - loss: 20.5295 - val_loss: 21.0165\n",
            "Epoch 35/100\n",
            "8/8 [==============================] - 0s 3ms/step - loss: 20.4494 - val_loss: 20.9365\n",
            "Epoch 36/100\n",
            "8/8 [==============================] - 0s 3ms/step - loss: 20.3698 - val_loss: 20.8564\n",
            "Epoch 37/100\n",
            "8/8 [==============================] - 0s 4ms/step - loss: 20.2894 - val_loss: 20.7765\n",
            "Epoch 38/100\n",
            "8/8 [==============================] - 0s 3ms/step - loss: 20.2094 - val_loss: 20.6965\n",
            "Epoch 39/100\n",
            "8/8 [==============================] - 0s 3ms/step - loss: 20.1299 - val_loss: 20.6165\n",
            "Epoch 40/100\n",
            "8/8 [==============================] - 0s 3ms/step - loss: 20.0496 - val_loss: 20.5365\n",
            "Epoch 41/100\n",
            "8/8 [==============================] - 0s 3ms/step - loss: 19.9694 - val_loss: 20.4565\n",
            "Epoch 42/100\n",
            "8/8 [==============================] - 0s 3ms/step - loss: 19.8898 - val_loss: 20.3765\n",
            "Epoch 43/100\n",
            "8/8 [==============================] - 0s 3ms/step - loss: 19.8093 - val_loss: 20.2965\n",
            "Epoch 44/100\n",
            "8/8 [==============================] - 0s 3ms/step - loss: 19.7294 - val_loss: 20.2165\n",
            "Epoch 45/100\n",
            "8/8 [==============================] - 0s 3ms/step - loss: 19.6494 - val_loss: 20.1365\n",
            "Epoch 46/100\n",
            "8/8 [==============================] - 0s 3ms/step - loss: 19.5695 - val_loss: 20.0565\n",
            "Epoch 47/100\n",
            "8/8 [==============================] - 0s 3ms/step - loss: 19.4894 - val_loss: 19.9765\n",
            "Epoch 48/100\n",
            "8/8 [==============================] - 0s 3ms/step - loss: 19.4094 - val_loss: 19.8965\n",
            "Epoch 49/100\n",
            "8/8 [==============================] - 0s 4ms/step - loss: 19.3302 - val_loss: 19.8165\n",
            "Epoch 50/100\n",
            "8/8 [==============================] - 0s 3ms/step - loss: 19.2494 - val_loss: 19.7365\n",
            "Epoch 51/100\n",
            "8/8 [==============================] - 0s 3ms/step - loss: 19.1694 - val_loss: 19.6565\n",
            "Epoch 52/100\n",
            "8/8 [==============================] - 0s 3ms/step - loss: 19.0898 - val_loss: 19.5765\n",
            "Epoch 53/100\n",
            "8/8 [==============================] - 0s 3ms/step - loss: 19.0097 - val_loss: 19.4965\n",
            "Epoch 54/100\n",
            "8/8 [==============================] - 0s 3ms/step - loss: 18.9299 - val_loss: 19.4165\n",
            "Epoch 55/100\n",
            "8/8 [==============================] - 0s 3ms/step - loss: 18.8495 - val_loss: 19.3365\n",
            "Epoch 56/100\n",
            "8/8 [==============================] - 0s 3ms/step - loss: 18.7693 - val_loss: 19.2565\n",
            "Epoch 57/100\n",
            "8/8 [==============================] - 0s 3ms/step - loss: 18.6893 - val_loss: 19.1765\n",
            "Epoch 58/100\n",
            "8/8 [==============================] - 0s 3ms/step - loss: 18.6095 - val_loss: 19.0965\n",
            "Epoch 59/100\n",
            "8/8 [==============================] - 0s 4ms/step - loss: 18.5294 - val_loss: 19.0165\n",
            "Epoch 60/100\n",
            "8/8 [==============================] - 0s 3ms/step - loss: 18.4496 - val_loss: 18.9365\n",
            "Epoch 61/100\n",
            "8/8 [==============================] - 0s 4ms/step - loss: 18.3693 - val_loss: 18.8565\n",
            "Epoch 62/100\n",
            "8/8 [==============================] - 0s 3ms/step - loss: 18.2893 - val_loss: 18.7765\n",
            "Epoch 63/100\n",
            "8/8 [==============================] - 0s 3ms/step - loss: 18.2095 - val_loss: 18.6965\n",
            "Epoch 64/100\n",
            "8/8 [==============================] - 0s 4ms/step - loss: 18.1294 - val_loss: 18.6166\n",
            "Epoch 65/100\n",
            "8/8 [==============================] - 0s 3ms/step - loss: 18.0495 - val_loss: 18.5365\n",
            "Epoch 66/100\n",
            "8/8 [==============================] - 0s 3ms/step - loss: 17.9693 - val_loss: 18.4565\n",
            "Epoch 67/100\n",
            "8/8 [==============================] - 0s 4ms/step - loss: 17.8894 - val_loss: 18.3765\n",
            "Epoch 68/100\n",
            "8/8 [==============================] - 0s 4ms/step - loss: 17.8094 - val_loss: 18.2965\n",
            "Epoch 69/100\n",
            "8/8 [==============================] - 0s 4ms/step - loss: 17.7293 - val_loss: 18.2165\n",
            "Epoch 70/100\n",
            "8/8 [==============================] - 0s 3ms/step - loss: 17.6494 - val_loss: 18.1365\n",
            "Epoch 71/100\n",
            "8/8 [==============================] - 0s 3ms/step - loss: 17.5693 - val_loss: 18.0565\n",
            "Epoch 72/100\n",
            "8/8 [==============================] - 0s 4ms/step - loss: 17.4894 - val_loss: 17.9765\n",
            "Epoch 73/100\n",
            "8/8 [==============================] - 0s 4ms/step - loss: 17.4095 - val_loss: 17.8965\n",
            "Epoch 74/100\n",
            "8/8 [==============================] - 0s 4ms/step - loss: 17.3293 - val_loss: 17.8165\n",
            "Epoch 75/100\n",
            "8/8 [==============================] - 0s 3ms/step - loss: 17.2494 - val_loss: 17.7365\n",
            "Epoch 76/100\n",
            "8/8 [==============================] - 0s 3ms/step - loss: 17.1701 - val_loss: 17.6565\n",
            "Epoch 77/100\n",
            "8/8 [==============================] - 0s 3ms/step - loss: 17.0893 - val_loss: 17.5765\n",
            "Epoch 78/100\n",
            "8/8 [==============================] - 0s 3ms/step - loss: 17.0094 - val_loss: 17.4965\n",
            "Epoch 79/100\n",
            "8/8 [==============================] - 0s 3ms/step - loss: 16.9294 - val_loss: 17.4165\n",
            "Epoch 80/100\n",
            "8/8 [==============================] - 0s 3ms/step - loss: 16.8495 - val_loss: 17.3365\n",
            "Epoch 81/100\n",
            "8/8 [==============================] - 0s 3ms/step - loss: 16.7693 - val_loss: 17.2565\n",
            "Epoch 82/100\n",
            "8/8 [==============================] - 0s 3ms/step - loss: 16.6895 - val_loss: 17.1765\n",
            "Epoch 83/100\n",
            "8/8 [==============================] - 0s 3ms/step - loss: 16.6093 - val_loss: 17.0965\n",
            "Epoch 84/100\n",
            "8/8 [==============================] - 0s 3ms/step - loss: 16.5293 - val_loss: 17.0165\n",
            "Epoch 85/100\n",
            "8/8 [==============================] - 0s 3ms/step - loss: 16.4493 - val_loss: 16.9365\n",
            "Epoch 86/100\n",
            "8/8 [==============================] - 0s 3ms/step - loss: 16.3697 - val_loss: 16.8565\n",
            "Epoch 87/100\n",
            "8/8 [==============================] - 0s 4ms/step - loss: 16.2898 - val_loss: 16.7765\n",
            "Epoch 88/100\n",
            "8/8 [==============================] - 0s 3ms/step - loss: 16.2097 - val_loss: 16.6965\n",
            "Epoch 89/100\n",
            "8/8 [==============================] - 0s 3ms/step - loss: 16.1294 - val_loss: 16.6165\n",
            "Epoch 90/100\n",
            "8/8 [==============================] - 0s 3ms/step - loss: 16.0495 - val_loss: 16.5365\n",
            "Epoch 91/100\n",
            "8/8 [==============================] - 0s 3ms/step - loss: 15.9693 - val_loss: 16.4565\n",
            "Epoch 92/100\n",
            "8/8 [==============================] - 0s 3ms/step - loss: 15.8893 - val_loss: 16.3765\n",
            "Epoch 93/100\n",
            "8/8 [==============================] - 0s 3ms/step - loss: 15.8093 - val_loss: 16.2965\n",
            "Epoch 94/100\n",
            "8/8 [==============================] - 0s 3ms/step - loss: 15.7293 - val_loss: 16.2165\n",
            "Epoch 95/100\n",
            "8/8 [==============================] - 0s 3ms/step - loss: 15.6493 - val_loss: 16.1365\n",
            "Epoch 96/100\n",
            "8/8 [==============================] - 0s 3ms/step - loss: 15.5693 - val_loss: 16.0565\n",
            "Epoch 97/100\n",
            "8/8 [==============================] - 0s 3ms/step - loss: 15.4894 - val_loss: 15.9765\n",
            "Epoch 98/100\n",
            "8/8 [==============================] - 0s 3ms/step - loss: 15.4098 - val_loss: 15.8965\n",
            "Epoch 99/100\n",
            "8/8 [==============================] - 0s 4ms/step - loss: 15.3298 - val_loss: 15.8165\n",
            "Epoch 100/100\n",
            "8/8 [==============================] - 0s 3ms/step - loss: 15.2499 - val_loss: 15.7365\n"
          ],
          "name": "stdout"
        }
      ]
    },
    {
      "cell_type": "code",
      "metadata": {
        "colab": {
          "base_uri": "https://localhost:8080/",
          "height": 283
        },
        "id": "IcVhDCoKF6FS",
        "outputId": "f046063f-2944-4f4c-8ce1-bbf8dd36cb76"
      },
      "source": [
        "def plot_loss(history):\n",
        "  plt.plot(history.history['loss'], label='loss')\n",
        "  plt.plot(history.history['val_loss'], label='val_loss')\n",
        "  plt.ylim([0, 25])\n",
        "  plt.xlabel('Epoch')\n",
        "  plt.ylabel('Error [MPG]')\n",
        "  plt.legend()\n",
        "  plt.grid(True)\n",
        "plot_loss(history)"
      ],
      "execution_count": 19,
      "outputs": [
        {
          "output_type": "display_data",
          "data": {
            "image/png": "[encoded data removed]",
            "text/plain": [
              "<Figure size 432x288 with 1 Axes>"
            ]
          },
          "metadata": {
            "tags": [],
            "needs_background": "light"
          }
        }
      ]
    },
    {
      "cell_type": "code",
      "metadata": {
        "colab": {
          "base_uri": "https://localhost:8080/"
        },
        "id": "VObP1wzFyS0f",
        "outputId": "17baa8fc-7bf5-4888-cbe7-3861737ff191"
      },
      "source": [
        "single_feature_model.evaluate(\n",
        "    test_features[feature],\n",
        "    test_labels, verbose=1\n",
        ")"
      ],
      "execution_count": 20,
      "outputs": [
        {
          "output_type": "stream",
          "text": [
            "3/3 [==============================] - 0s 4ms/step - loss: 16.0293\n"
          ],
          "name": "stdout"
        },
        {
          "output_type": "execute_result",
          "data": {
            "text/plain": [
              "16.029312133789062"
            ]
          },
          "metadata": {
            "tags": []
          },
          "execution_count": 20
        }
      ]
    },
    {
      "cell_type": "code",
      "metadata": {
        "colab": {
          "base_uri": "https://localhost:8080/",
          "height": 497
        },
        "id": "1-B6hEkZyvJS",
        "outputId": "3049b67c-0cd1-4314-ef46-53927bdca1ec"
      },
      "source": [
        "# predict and plot\n",
        "range_min = np.min(test_features[feature]) - 10\n",
        "range_max = np.max(test_features[feature]) + 10\n",
        "x = tf.linspace(range_min, range_max, 200)\n",
        "y = single_feature_model.predict(x)\n",
        "\n",
        "plot(feature, x, y)"
      ],
      "execution_count": 21,
      "outputs": [
        {
          "output_type": "display_data",
          "data": {
            "image/png": "[encoded data removed]",
            "text/plain": [
              "<Figure size 720x576 with 1 Axes>"
            ]
          },
          "metadata": {
            "tags": [],
            "needs_background": "light"
          }
        }
      ]
    },
    {
      "cell_type": "code",
      "metadata": {
        "id": "pA5tPmMLy9_y"
      },
      "source": [
        "# DNN\n",
        "dnn_model = keras.Sequential(\n",
        "    [\n",
        "     single_feature_normalizer,\n",
        "     layers.Dense(64, activation='relu'),\n",
        "     layers.Dense(64, activation='relu'),\n",
        "     layers.Dense(1)\n",
        "    ]\n",
        ")"
      ],
      "execution_count": 22,
      "outputs": []
    },
    {
      "cell_type": "code",
      "metadata": {
        "colab": {
          "base_uri": "https://localhost:8080/"
        },
        "id": "fatbNFIszDeZ",
        "outputId": "6577b422-a092-4041-c731-821957f8d8b8"
      },
      "source": [
        "dnn_model.compile(loss=loss, optimizer=tf.keras.optimizers.Adam(0.001))\n",
        "dnn_model.summary()"
      ],
      "execution_count": 23,
      "outputs": [
        {
          "output_type": "stream",
          "text": [
            "Model: \"sequential_1\"\n",
            "_________________________________________________________________\n",
            "Layer (type)                 Output Shape              Param #   \n",
            "=================================================================\n",
            "normalization_1 (Normalizati (None, 1)                 3         \n",
            "_________________________________________________________________\n",
            "dense_1 (Dense)              (None, 64)                128       \n",
            "_________________________________________________________________\n",
            "dense_2 (Dense)              (None, 64)                4160      \n",
            "_________________________________________________________________\n",
            "dense_3 (Dense)              (None, 1)                 65        \n",
            "=================================================================\n",
            "Total params: 4,356\n",
            "Trainable params: 4,353\n",
            "Non-trainable params: 3\n",
            "_________________________________________________________________\n"
          ],
          "name": "stdout"
        }
      ]
    },
    {
      "cell_type": "code",
      "metadata": {
        "colab": {
          "base_uri": "https://localhost:8080/"
        },
        "id": "pXWO0_tVz6n7",
        "outputId": "6841432b-36d1-43dc-b5dd-59cd045084d7"
      },
      "source": [
        "dnn_model.evaluate(test_features[feature], test_labels, verbose=1)"
      ],
      "execution_count": 24,
      "outputs": [
        {
          "output_type": "stream",
          "text": [
            "3/3 [==============================] - 0s 2ms/step - loss: 23.9651\n"
          ],
          "name": "stdout"
        },
        {
          "output_type": "execute_result",
          "data": {
            "text/plain": [
              "23.965120315551758"
            ]
          },
          "metadata": {
            "tags": []
          },
          "execution_count": 24
        }
      ]
    },
    {
      "cell_type": "code",
      "metadata": {
        "id": "TATOIbqm0AeT"
      },
      "source": [
        ""
      ],
      "execution_count": 24,
      "outputs": []
    }
  ]
}