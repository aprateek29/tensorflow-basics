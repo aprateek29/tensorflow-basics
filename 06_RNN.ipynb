{
  "nbformat": 4,
  "nbformat_minor": 0,
  "metadata": {
    "colab": {
      "name": "06 RNN.ipynb",
      "provenance": []
    },
    "kernelspec": {
      "name": "python3",
      "display_name": "Python 3"
    }
  },
  "cells": [
    {
      "cell_type": "markdown",
      "metadata": {
        "id": "TeoShsxOVNH5"
      },
      "source": [
        "### **Description**:Learn how to use RNN in Tensorflow\n",
        "\n",
        "I used a mnist digit dataset to classify different digits."
      ]
    },
    {
      "cell_type": "code",
      "metadata": {
        "id": "Qj2-7HHm8mh7"
      },
      "source": [
        "import tensorflow as tf\n",
        "from tensorflow import keras\n",
        "from tensorflow.keras import layers"
      ],
      "execution_count": 1,
      "outputs": []
    },
    {
      "cell_type": "code",
      "metadata": {
        "id": "hL3kTWQTrD4N"
      },
      "source": [
        "mnist = keras.datasets.mnist"
      ],
      "execution_count": 2,
      "outputs": []
    },
    {
      "cell_type": "code",
      "metadata": {
        "colab": {
          "base_uri": "https://localhost:8080/"
        },
        "id": "evZINiC8rGAL",
        "outputId": "da274275-0c41-46fe-b509-b150b72a8ab6"
      },
      "source": [
        "(x_train, y_train), (x_test, y_test) = mnist.load_data()\n",
        "x_train, x_test = x_train / 255.0 , x_test / 255.0"
      ],
      "execution_count": 3,
      "outputs": [
        {
          "output_type": "stream",
          "text": [
            "Downloading data from https://storage.googleapis.com/tensorflow/tf-keras-datasets/mnist.npz\n",
            "11493376/11490434 [==============================] - 0s 0us/step\n"
          ],
          "name": "stdout"
        }
      ]
    },
    {
      "cell_type": "code",
      "metadata": {
        "id": "HsMCTY9crOy8"
      },
      "source": [
        "# DNN model\n",
        "# model = keras.models.Sequential([\n",
        "#     keras.layers.Flatten(input_shape=(28, 28)),\n",
        "#     keras.layers.Dense(128, activation='relu'),\n",
        "#     keras.layers.Dense(10)\n",
        "# ])\n",
        "\n",
        "# RNN model\n",
        "model = keras.models.Sequential()\n",
        "model.add(keras.Input(shape=(28, 28))) # sequence_length, input_size\n",
        "model.add(layers.SimpleRNN(128,activation='relu')) # or use GRU or LSTM\n",
        "model.add(layers.Dense(10))"
      ],
      "execution_count": 16,
      "outputs": []
    },
    {
      "cell_type": "code",
      "metadata": {
        "colab": {
          "base_uri": "https://localhost:8080/"
        },
        "id": "a8gFyFm3rboK",
        "outputId": "da7dc032-3d28-46f5-d08d-f812f89b7a53"
      },
      "source": [
        "model.summary()"
      ],
      "execution_count": 17,
      "outputs": [
        {
          "output_type": "stream",
          "text": [
            "Model: \"sequential_4\"\n",
            "_________________________________________________________________\n",
            "Layer (type)                 Output Shape              Param #   \n",
            "=================================================================\n",
            "simple_rnn_2 (SimpleRNN)     (None, 128)               20096     \n",
            "_________________________________________________________________\n",
            "dense_4 (Dense)              (None, 10)                1290      \n",
            "=================================================================\n",
            "Total params: 21,386\n",
            "Trainable params: 21,386\n",
            "Non-trainable params: 0\n",
            "_________________________________________________________________\n"
          ],
          "name": "stdout"
        }
      ]
    },
    {
      "cell_type": "code",
      "metadata": {
        "id": "afPT76dcrfvc"
      },
      "source": [
        "# loss and optimizer\n",
        "loss = keras.losses.SparseCategoricalCrossentropy(from_logits=True)\n",
        "optim = keras.optimizers.Adam(learning_rate=0.001)\n",
        "metrics = ['accuracy']"
      ],
      "execution_count": 18,
      "outputs": []
    },
    {
      "cell_type": "code",
      "metadata": {
        "id": "qmyt12F-rpjc"
      },
      "source": [
        "model.compile(loss=loss, optimizer=optim, metrics=metrics)"
      ],
      "execution_count": 19,
      "outputs": []
    },
    {
      "cell_type": "code",
      "metadata": {
        "colab": {
          "base_uri": "https://localhost:8080/"
        },
        "id": "3fso3E51ruz7",
        "outputId": "0b7a1a29-5119-4e48-97b9-068263649c4a"
      },
      "source": [
        "# training\n",
        "batch_size = 64\n",
        "epochs = 5\n",
        "\n",
        "model.fit(x_train, y_train, batch_size=batch_size, epochs=epochs, verbose=2)"
      ],
      "execution_count": 20,
      "outputs": [
        {
          "output_type": "stream",
          "text": [
            "Epoch 1/5\n",
            "938/938 - 11s - loss: 0.4541 - accuracy: 0.8550\n",
            "Epoch 2/5\n",
            "938/938 - 11s - loss: 0.1955 - accuracy: 0.9430\n",
            "Epoch 3/5\n",
            "938/938 - 11s - loss: 0.1545 - accuracy: 0.9541\n",
            "Epoch 4/5\n",
            "938/938 - 11s - loss: 0.1387 - accuracy: 0.9598\n",
            "Epoch 5/5\n",
            "938/938 - 11s - loss: 0.1204 - accuracy: 0.9650\n"
          ],
          "name": "stdout"
        },
        {
          "output_type": "execute_result",
          "data": {
            "text/plain": [
              "<tensorflow.python.keras.callbacks.History at 0x7f9ff4c8c6a0>"
            ]
          },
          "metadata": {
            "tags": []
          },
          "execution_count": 20
        }
      ]
    },
    {
      "cell_type": "code",
      "metadata": {
        "colab": {
          "base_uri": "https://localhost:8080/"
        },
        "id": "pNe1Zi3Yr4WU",
        "outputId": "29eb1269-b5dd-44f1-a0fc-3ba7c9127c98"
      },
      "source": [
        "# evaluate\n",
        "model.evaluate(x_test, y_test, batch_size=batch_size, verbose=2)"
      ],
      "execution_count": 21,
      "outputs": [
        {
          "output_type": "stream",
          "text": [
            "157/157 - 1s - loss: 0.0919 - accuracy: 0.9719\n"
          ],
          "name": "stdout"
        },
        {
          "output_type": "execute_result",
          "data": {
            "text/plain": [
              "[0.09192764014005661, 0.9718999862670898]"
            ]
          },
          "metadata": {
            "tags": []
          },
          "execution_count": 21
        }
      ]
    },
    {
      "cell_type": "code",
      "metadata": {
        "id": "-kXfXqnesBYm"
      },
      "source": [
        ""
      ],
      "execution_count": null,
      "outputs": []
    }
  ]
}