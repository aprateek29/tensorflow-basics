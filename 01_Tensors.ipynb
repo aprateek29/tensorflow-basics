{
  "nbformat": 4,
  "nbformat_minor": 0,
  "metadata": {
    "colab": {
      "name": "01 Tensors.ipynb",
      "provenance": []
    },
    "kernelspec": {
      "name": "python3",
      "display_name": "Python 3"
    }
  },
  "cells": [
    {
      "cell_type": "markdown",
      "metadata": {
        "id": "TeoShsxOVNH5"
      },
      "source": [
        "### **Description**:Learn how to use tensors in Tensorflow\n",
        "\n",
        "#### Prop\n",
        "- nd-array\n",
        "- GPU support\n",
        "- Computational Graph / Backpropagation\n",
        "- Immutable"
      ]
    },
    {
      "cell_type": "code",
      "metadata": {
        "colab": {
          "base_uri": "https://localhost:8080/"
        },
        "id": "0ypRN6yK8buP",
        "outputId": "e3c8c9a6-7780-4342-d682-83bf638e5c6d"
      },
      "source": [
        "import tensorflow as tf\n",
        "\n",
        "x = tf.constant(4)\n",
        "print(x)"
      ],
      "execution_count": 2,
      "outputs": [
        {
          "output_type": "stream",
          "text": [
            "tf.Tensor(4, shape=(), dtype=int32)\n"
          ],
          "name": "stdout"
        }
      ]
    },
    {
      "cell_type": "code",
      "metadata": {
        "colab": {
          "base_uri": "https://localhost:8080/"
        },
        "id": "tThpQriP9ASj",
        "outputId": "322e9353-c248-4fa6-f6fb-0190ba6d689c"
      },
      "source": [
        "x = tf.constant(4, shape=(1, 1), dtype=tf.float32)\n",
        "print(x)"
      ],
      "execution_count": 3,
      "outputs": [
        {
          "output_type": "stream",
          "text": [
            "tf.Tensor([[4.]], shape=(1, 1), dtype=float32)\n"
          ],
          "name": "stdout"
        }
      ]
    },
    {
      "cell_type": "code",
      "metadata": {
        "colab": {
          "base_uri": "https://localhost:8080/"
        },
        "id": "HIPcWZeK5y0v",
        "outputId": "698b8c58-8361-4a7f-c80e-412ee744c16f"
      },
      "source": [
        "x = tf.constant([[1, 2, 3], [4, 5, 6]])\n",
        "print(x)"
      ],
      "execution_count": 4,
      "outputs": [
        {
          "output_type": "stream",
          "text": [
            "tf.Tensor(\n",
            "[[1 2 3]\n",
            " [4 5 6]], shape=(2, 3), dtype=int32)\n"
          ],
          "name": "stdout"
        }
      ]
    },
    {
      "cell_type": "code",
      "metadata": {
        "colab": {
          "base_uri": "https://localhost:8080/"
        },
        "id": "bvZEEI6R56lL",
        "outputId": "2fdbc0fb-ee02-4931-e24f-788a5c04d2fc"
      },
      "source": [
        "x = tf.ones((3, 3), dtype=tf.int32)\n",
        "x"
      ],
      "execution_count": 7,
      "outputs": [
        {
          "output_type": "execute_result",
          "data": {
            "text/plain": [
              "<tf.Tensor: shape=(3, 3), dtype=int32, numpy=\n",
              "array([[1, 1, 1],\n",
              "       [1, 1, 1],\n",
              "       [1, 1, 1]], dtype=int32)>"
            ]
          },
          "metadata": {
            "tags": []
          },
          "execution_count": 7
        }
      ]
    },
    {
      "cell_type": "code",
      "metadata": {
        "colab": {
          "base_uri": "https://localhost:8080/"
        },
        "id": "SbQgR5lh6Jlb",
        "outputId": "71431081-5418-46a0-cdd1-9a369935cbd6"
      },
      "source": [
        "x = tf.eye(3)\n",
        "print(x)"
      ],
      "execution_count": 8,
      "outputs": [
        {
          "output_type": "stream",
          "text": [
            "tf.Tensor(\n",
            "[[1. 0. 0.]\n",
            " [0. 1. 0.]\n",
            " [0. 0. 1.]], shape=(3, 3), dtype=float32)\n"
          ],
          "name": "stdout"
        }
      ]
    },
    {
      "cell_type": "code",
      "metadata": {
        "colab": {
          "base_uri": "https://localhost:8080/"
        },
        "id": "QGINko_g6MzW",
        "outputId": "4a01eeca-0d7a-4a47-80bc-724e96399888"
      },
      "source": [
        "x = tf.random.normal((3, 3), mean=0, stddev=1)\n",
        "x"
      ],
      "execution_count": 9,
      "outputs": [
        {
          "output_type": "execute_result",
          "data": {
            "text/plain": [
              "<tf.Tensor: shape=(3, 3), dtype=float32, numpy=\n",
              "array([[ 0.42517745,  1.1771523 ,  0.4431411 ],\n",
              "       [-0.5400549 , -0.9585258 ,  2.1323535 ],\n",
              "       [-1.4758095 , -1.0421426 , -1.0948182 ]], dtype=float32)>"
            ]
          },
          "metadata": {
            "tags": []
          },
          "execution_count": 9
        }
      ]
    },
    {
      "cell_type": "code",
      "metadata": {
        "colab": {
          "base_uri": "https://localhost:8080/"
        },
        "id": "_CvkRsbZ6HYT",
        "outputId": "b9c2077a-41dd-4ba3-f242-b50f544d961a"
      },
      "source": [
        "x = tf.random.uniform((3, 3), minval=0, maxval=1)\n",
        "x"
      ],
      "execution_count": 10,
      "outputs": [
        {
          "output_type": "execute_result",
          "data": {
            "text/plain": [
              "<tf.Tensor: shape=(3, 3), dtype=float32, numpy=\n",
              "array([[0.6809813 , 0.9085413 , 0.49832952],\n",
              "       [0.653072  , 0.32443833, 0.6748222 ],\n",
              "       [0.7071954 , 0.77471435, 0.2026279 ]], dtype=float32)>"
            ]
          },
          "metadata": {
            "tags": []
          },
          "execution_count": 10
        }
      ]
    },
    {
      "cell_type": "code",
      "metadata": {
        "colab": {
          "base_uri": "https://localhost:8080/"
        },
        "id": "WpVWJrm76DIW",
        "outputId": "2986b09d-4fdf-482c-a47e-e2fc86c9f9b2"
      },
      "source": [
        "x = tf.range(10)\n",
        "x\n",
        "\n",
        "# cast\n",
        "x = tf.cast(x, dtype=tf.float32)\n",
        "x"
      ],
      "execution_count": 12,
      "outputs": [
        {
          "output_type": "execute_result",
          "data": {
            "text/plain": [
              "<tf.Tensor: shape=(10,), dtype=float32, numpy=array([0., 1., 2., 3., 4., 5., 6., 7., 8., 9.], dtype=float32)>"
            ]
          },
          "metadata": {
            "tags": []
          },
          "execution_count": 12
        }
      ]
    },
    {
      "cell_type": "code",
      "metadata": {
        "colab": {
          "base_uri": "https://localhost:8080/"
        },
        "id": "OgTubVMp6wMf",
        "outputId": "695a75b2-2ca9-4d61-ac20-ba10c39a0e87"
      },
      "source": [
        "# elementwise\n",
        "x = tf.constant([1, 2, 3])\n",
        "y = tf.constant([4, 5, 6])\n",
        "\n",
        "z = tf.add(x, y) # or x + y\n",
        "print(z.numpy())"
      ],
      "execution_count": 14,
      "outputs": [
        {
          "output_type": "stream",
          "text": [
            "[5 7 9]\n"
          ],
          "name": "stdout"
        }
      ]
    },
    {
      "cell_type": "code",
      "metadata": {
        "colab": {
          "base_uri": "https://localhost:8080/"
        },
        "id": "CxMwX2SK7Fem",
        "outputId": "ae926608-5863-4523-c0cb-d79448d6a73a"
      },
      "source": [
        "z = tf.subtract(x, y)\n",
        "z"
      ],
      "execution_count": 16,
      "outputs": [
        {
          "output_type": "execute_result",
          "data": {
            "text/plain": [
              "<tf.Tensor: shape=(3,), dtype=int32, numpy=array([-3, -3, -3], dtype=int32)>"
            ]
          },
          "metadata": {
            "tags": []
          },
          "execution_count": 16
        }
      ]
    },
    {
      "cell_type": "code",
      "metadata": {
        "colab": {
          "base_uri": "https://localhost:8080/"
        },
        "id": "5BarigF87TI_",
        "outputId": "5f80e65b-14db-425c-95f6-116b9b3fcbb9"
      },
      "source": [
        "# dot product\n",
        "z = tf.tensordot(x, y, axes=1)\n",
        "print(z)"
      ],
      "execution_count": 17,
      "outputs": [
        {
          "output_type": "stream",
          "text": [
            "tf.Tensor(32, shape=(), dtype=int32)\n"
          ],
          "name": "stdout"
        }
      ]
    },
    {
      "cell_type": "code",
      "metadata": {
        "id": "LVem_l1e7aRS"
      },
      "source": [
        "x = tf.random.normal((2, 3))\n",
        "y = tf.random.normal((3, 2))"
      ],
      "execution_count": 21,
      "outputs": []
    },
    {
      "cell_type": "code",
      "metadata": {
        "colab": {
          "base_uri": "https://localhost:8080/"
        },
        "id": "Gn1C7aVN7Ilb",
        "outputId": "342a1d5a-0375-44aa-b3c6-b0ad6603d9ea"
      },
      "source": [
        "z = tf.matmul(x, y)\n",
        "print(z)"
      ],
      "execution_count": 23,
      "outputs": [
        {
          "output_type": "stream",
          "text": [
            "tf.Tensor(\n",
            "[[-0.1179302  -2.0876818 ]\n",
            " [-1.7435453   0.04571003]], shape=(2, 2), dtype=float32)\n"
          ],
          "name": "stdout"
        }
      ]
    },
    {
      "cell_type": "code",
      "metadata": {
        "colab": {
          "base_uri": "https://localhost:8080/"
        },
        "id": "gk1buEeG7A1K",
        "outputId": "434073aa-9653-4d75-86ef-998e2be1e1f3"
      },
      "source": [
        "# slicing and indexing\n",
        "x = tf.constant([[1, 2, 3, 4], [5, 6, 7, 8]])\n",
        "x[0] # first row"
      ],
      "execution_count": 25,
      "outputs": [
        {
          "output_type": "execute_result",
          "data": {
            "text/plain": [
              "<tf.Tensor: shape=(4,), dtype=int32, numpy=array([1, 2, 3, 4], dtype=int32)>"
            ]
          },
          "metadata": {
            "tags": []
          },
          "execution_count": 25
        }
      ]
    },
    {
      "cell_type": "code",
      "metadata": {
        "colab": {
          "base_uri": "https://localhost:8080/"
        },
        "id": "VGfmj_aT8I2W",
        "outputId": "828ac335-5a9d-4906-a014-f58835614d84"
      },
      "source": [
        "x[1] # second row"
      ],
      "execution_count": 26,
      "outputs": [
        {
          "output_type": "execute_result",
          "data": {
            "text/plain": [
              "<tf.Tensor: shape=(4,), dtype=int32, numpy=array([5, 6, 7, 8], dtype=int32)>"
            ]
          },
          "metadata": {
            "tags": []
          },
          "execution_count": 26
        }
      ]
    },
    {
      "cell_type": "code",
      "metadata": {
        "colab": {
          "base_uri": "https://localhost:8080/"
        },
        "id": "NwcD0Cpf8JsG",
        "outputId": "2d0e797e-4a40-4929-d6d1-69725d0ea6e0"
      },
      "source": [
        "x[:, 0:1] # all row but col 1"
      ],
      "execution_count": 28,
      "outputs": [
        {
          "output_type": "execute_result",
          "data": {
            "text/plain": [
              "<tf.Tensor: shape=(2, 1), dtype=int32, numpy=\n",
              "array([[1],\n",
              "       [5]], dtype=int32)>"
            ]
          },
          "metadata": {
            "tags": []
          },
          "execution_count": 28
        }
      ]
    },
    {
      "cell_type": "code",
      "metadata": {
        "colab": {
          "base_uri": "https://localhost:8080/"
        },
        "id": "xMJaYv9c8T-v",
        "outputId": "d5389907-0e0c-4c3d-dc0e-b1ef92d28f6e"
      },
      "source": [
        "x[:,...]"
      ],
      "execution_count": 33,
      "outputs": [
        {
          "output_type": "execute_result",
          "data": {
            "text/plain": [
              "<tf.Tensor: shape=(2, 4), dtype=int32, numpy=\n",
              "array([[1, 2, 3, 4],\n",
              "       [5, 6, 7, 8]], dtype=int32)>"
            ]
          },
          "metadata": {
            "tags": []
          },
          "execution_count": 33
        }
      ]
    },
    {
      "cell_type": "code",
      "metadata": {
        "colab": {
          "base_uri": "https://localhost:8080/"
        },
        "id": "Wcm23AZR8q9z",
        "outputId": "66bf6c6d-3359-4bf9-d176-0213992e968c"
      },
      "source": [
        "x = tf.random.normal((2, 3))\n",
        "x"
      ],
      "execution_count": 34,
      "outputs": [
        {
          "output_type": "execute_result",
          "data": {
            "text/plain": [
              "<tf.Tensor: shape=(2, 3), dtype=float32, numpy=\n",
              "array([[ 0.9053482 , -0.15713677, -0.25948063],\n",
              "       [ 0.30730852,  0.654095  ,  0.17707115]], dtype=float32)>"
            ]
          },
          "metadata": {
            "tags": []
          },
          "execution_count": 34
        }
      ]
    },
    {
      "cell_type": "code",
      "metadata": {
        "colab": {
          "base_uri": "https://localhost:8080/"
        },
        "id": "gizZihxB8uJv",
        "outputId": "8a5f61b1-4ef4-4244-e673-ba853121c5b1"
      },
      "source": [
        "x = tf.reshape(x, (3, 2))\n",
        "x"
      ],
      "execution_count": 38,
      "outputs": [
        {
          "output_type": "execute_result",
          "data": {
            "text/plain": [
              "<tf.Tensor: shape=(3, 2), dtype=float32, numpy=\n",
              "array([[ 0.9053482 , -0.15713677],\n",
              "       [-0.25948063,  0.30730852],\n",
              "       [ 0.654095  ,  0.17707115]], dtype=float32)>"
            ]
          },
          "metadata": {
            "tags": []
          },
          "execution_count": 38
        }
      ]
    },
    {
      "cell_type": "code",
      "metadata": {
        "colab": {
          "base_uri": "https://localhost:8080/"
        },
        "id": "pWtf1KnB8wQf",
        "outputId": "e6f2430d-366e-4ea0-febf-6abfd857fb0e"
      },
      "source": [
        "x = x.numpy()\n",
        "print(type(x))\n",
        "x"
      ],
      "execution_count": 39,
      "outputs": [
        {
          "output_type": "stream",
          "text": [
            "<class 'numpy.ndarray'>\n"
          ],
          "name": "stdout"
        },
        {
          "output_type": "execute_result",
          "data": {
            "text/plain": [
              "array([[ 0.9053482 , -0.15713677],\n",
              "       [-0.25948063,  0.30730852],\n",
              "       [ 0.654095  ,  0.17707115]], dtype=float32)"
            ]
          },
          "metadata": {
            "tags": []
          },
          "execution_count": 39
        }
      ]
    },
    {
      "cell_type": "code",
      "metadata": {
        "colab": {
          "base_uri": "https://localhost:8080/"
        },
        "id": "mIsILM_e9Keu",
        "outputId": "6200c7e7-712c-402b-9142-3947b2668876"
      },
      "source": [
        "x = tf.convert_to_tensor(x)\n",
        "x"
      ],
      "execution_count": 41,
      "outputs": [
        {
          "output_type": "execute_result",
          "data": {
            "text/plain": [
              "<tf.Tensor: shape=(3, 2), dtype=float32, numpy=\n",
              "array([[ 0.9053482 , -0.15713677],\n",
              "       [-0.25948063,  0.30730852],\n",
              "       [ 0.654095  ,  0.17707115]], dtype=float32)>"
            ]
          },
          "metadata": {
            "tags": []
          },
          "execution_count": 41
        }
      ]
    },
    {
      "cell_type": "code",
      "metadata": {
        "colab": {
          "base_uri": "https://localhost:8080/"
        },
        "id": "cuRzC7uO9aFj",
        "outputId": "48f90616-5cca-41d8-9897-d66fd0cfe760"
      },
      "source": [
        "x = tf.constant(['Patrick', 'Max', 'Prateek'])\n",
        "x"
      ],
      "execution_count": 42,
      "outputs": [
        {
          "output_type": "execute_result",
          "data": {
            "text/plain": [
              "<tf.Tensor: shape=(3,), dtype=string, numpy=array([b'Patrick', b'Max', b'Prateek'], dtype=object)>"
            ]
          },
          "metadata": {
            "tags": []
          },
          "execution_count": 42
        }
      ]
    },
    {
      "cell_type": "code",
      "metadata": {
        "colab": {
          "base_uri": "https://localhost:8080/"
        },
        "id": "oUTYDJKq9t7S",
        "outputId": "ca5ac2e8-3893-4da3-9b3a-57fb8680f0de"
      },
      "source": [
        "x = tf.Variable([1, 2, 3])\n",
        "x"
      ],
      "execution_count": 43,
      "outputs": [
        {
          "output_type": "execute_result",
          "data": {
            "text/plain": [
              "<tf.Variable 'Variable:0' shape=(3,) dtype=int32, numpy=array([1, 2, 3], dtype=int32)>"
            ]
          },
          "metadata": {
            "tags": []
          },
          "execution_count": 43
        }
      ]
    }
  ]
}