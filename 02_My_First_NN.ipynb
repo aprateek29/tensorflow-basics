{
  "nbformat": 4,
  "nbformat_minor": 0,
  "metadata": {
    "colab": {
      "name": "02 My First NN.ipynb",
      "provenance": []
    },
    "kernelspec": {
      "name": "python3",
      "display_name": "Python 3"
    }
  },
  "cells": [
    {
      "cell_type": "markdown",
      "metadata": {
        "id": "TeoShsxOVNH5"
      },
      "source": [
        "### **Description**:Learn how to use keras sequential api in Tensorflow\n",
        "\n",
        "I used a mnist digit dataset to classify different digits."
      ]
    },
    {
      "cell_type": "code",
      "metadata": {
        "id": "jm2vEoRN_B70"
      },
      "source": [
        "import tensorflow as tf\n",
        "from tensorflow import keras\n",
        "import numpy as np\n",
        "import matplotlib.pyplot as plt"
      ],
      "execution_count": 1,
      "outputs": []
    },
    {
      "cell_type": "code",
      "metadata": {
        "id": "U_HNqIlA_LbI"
      },
      "source": [
        "mnist = keras.datasets.mnist"
      ],
      "execution_count": 2,
      "outputs": []
    },
    {
      "cell_type": "code",
      "metadata": {
        "colab": {
          "base_uri": "https://localhost:8080/"
        },
        "id": "1dAnvQxF_VLS",
        "outputId": "dc12c15b-d4b4-47c2-c098-d6c32f88e577"
      },
      "source": [
        "(x_train, y_train), (x_test, y_test) = mnist.load_data()\n",
        "print(x_train.shape, y_train.shape)"
      ],
      "execution_count": 4,
      "outputs": [
        {
          "output_type": "stream",
          "text": [
            "(60000, 28, 28) (60000,)\n"
          ],
          "name": "stdout"
        }
      ]
    },
    {
      "cell_type": "code",
      "metadata": {
        "colab": {
          "base_uri": "https://localhost:8080/",
          "height": 267
        },
        "id": "HIPrQZab_bIS",
        "outputId": "9f7ccf51-be45-49f3-ec01-c24a6c0b61be"
      },
      "source": [
        "# normalize: 0, 255 - > 0, 1\n",
        "x_train, x_test = x_train / 255.0, x_test / 255.0\n",
        "\n",
        "# visualize\n",
        "for i in range(6):\n",
        "  plt.subplot(2, 3, i+1)\n",
        "  plt.imshow(x_train[i], cmap='gray')\n",
        "plt.show()"
      ],
      "execution_count": 5,
      "outputs": [
        {
          "output_type": "display_data",
          "data": {
            "image/png": "[encoded data removed]",
            "text/plain": [
              "<Figure size 432x288 with 6 Axes>"
            ]
          },
          "metadata": {
            "tags": [],
            "needs_background": "light"
          }
        }
      ]
    },
    {
      "cell_type": "code",
      "metadata": {
        "id": "Eoc7vpDY_9Je"
      },
      "source": [
        "# model\n",
        "model = keras.Sequential(\n",
        "    [\n",
        "     keras.layers.Flatten(input_shape=(28, 28)),\n",
        "     keras.layers.Dense(128, activation='relu'),\n",
        "     keras.layers.Dense(10)\n",
        "    ]\n",
        ")"
      ],
      "execution_count": 9,
      "outputs": []
    },
    {
      "cell_type": "code",
      "metadata": {
        "colab": {
          "base_uri": "https://localhost:8080/"
        },
        "id": "6swEftulBIvK",
        "outputId": "b997f796-3054-4eee-94a9-1109913bc77d"
      },
      "source": [
        "model.summary()"
      ],
      "execution_count": 10,
      "outputs": [
        {
          "output_type": "stream",
          "text": [
            "Model: \"sequential_2\"\n",
            "_________________________________________________________________\n",
            "Layer (type)                 Output Shape              Param #   \n",
            "=================================================================\n",
            "flatten_2 (Flatten)          (None, 784)               0         \n",
            "_________________________________________________________________\n",
            "dense_4 (Dense)              (None, 128)               100480    \n",
            "_________________________________________________________________\n",
            "dense_5 (Dense)              (None, 10)                1290      \n",
            "=================================================================\n",
            "Total params: 101,770\n",
            "Trainable params: 101,770\n",
            "Non-trainable params: 0\n",
            "_________________________________________________________________\n"
          ],
          "name": "stdout"
        }
      ]
    },
    {
      "cell_type": "code",
      "metadata": {
        "id": "c7dnE5OCBKJ-"
      },
      "source": [
        "# loss and optimizer\n",
        "loss = keras.losses.SparseCategoricalCrossentropy(from_logits=True)\n",
        "optim = keras.optimizers.Adam(learning_rate=0.001)\n",
        "metrics = ['accuracy']"
      ],
      "execution_count": 11,
      "outputs": []
    },
    {
      "cell_type": "code",
      "metadata": {
        "id": "oraHEkJpCrEc"
      },
      "source": [
        "model.compile(loss=loss, optimizer=optim, metrics=metrics)"
      ],
      "execution_count": 12,
      "outputs": []
    },
    {
      "cell_type": "code",
      "metadata": {
        "colab": {
          "base_uri": "https://localhost:8080/"
        },
        "id": "TH6bLFgSCyNf",
        "outputId": "90874cb8-f02d-48ed-d489-d19d0437604d"
      },
      "source": [
        "# training\n",
        "batch_size = 64\n",
        "epochs = 5\n",
        "model.fit(\n",
        "    x_train, \n",
        "    y_train, \n",
        "    batch_size=batch_size, \n",
        "    epochs=epochs, \n",
        "    shuffle=True, \n",
        "    verbose=2\n",
        ")"
      ],
      "execution_count": 14,
      "outputs": [
        {
          "output_type": "stream",
          "text": [
            "Epoch 1/5\n",
            "938/938 - 2s - loss: 0.3010 - accuracy: 0.9159\n",
            "Epoch 2/5\n",
            "938/938 - 2s - loss: 0.1363 - accuracy: 0.9608\n",
            "Epoch 3/5\n",
            "938/938 - 2s - loss: 0.0946 - accuracy: 0.9721\n",
            "Epoch 4/5\n",
            "938/938 - 2s - loss: 0.0717 - accuracy: 0.9786\n",
            "Epoch 5/5\n",
            "938/938 - 2s - loss: 0.0569 - accuracy: 0.9829\n"
          ],
          "name": "stdout"
        },
        {
          "output_type": "execute_result",
          "data": {
            "text/plain": [
              "<tensorflow.python.keras.callbacks.History at 0x7f117e5386a0>"
            ]
          },
          "metadata": {
            "tags": []
          },
          "execution_count": 14
        }
      ]
    },
    {
      "cell_type": "code",
      "metadata": {
        "colab": {
          "base_uri": "https://localhost:8080/"
        },
        "id": "ksNRiQwXDHAf",
        "outputId": "91831501-581d-4b8e-892a-0e69dbc7b1d3"
      },
      "source": [
        "# evaluate\n",
        "model.evaluate(x_test, y_test, batch_size=batch_size, verbose=2)"
      ],
      "execution_count": 15,
      "outputs": [
        {
          "output_type": "stream",
          "text": [
            "157/157 - 0s - loss: 0.0789 - accuracy: 0.9751\n"
          ],
          "name": "stdout"
        },
        {
          "output_type": "execute_result",
          "data": {
            "text/plain": [
              "[0.07888294756412506, 0.9750999808311462]"
            ]
          },
          "metadata": {
            "tags": []
          },
          "execution_count": 15
        }
      ]
    },
    {
      "cell_type": "code",
      "metadata": {
        "id": "6vJU8ODhDdDb"
      },
      "source": [
        "# predictions\n",
        "probability_model = keras.Sequential(\n",
        "    [\n",
        "     model,\n",
        "     keras.layers.Softmax()\n",
        "    ]\n",
        ")"
      ],
      "execution_count": 16,
      "outputs": []
    },
    {
      "cell_type": "code",
      "metadata": {
        "id": "Hly81r4zEAKY"
      },
      "source": [
        "predictions = probability_model(x_test)"
      ],
      "execution_count": 17,
      "outputs": []
    },
    {
      "cell_type": "code",
      "metadata": {
        "colab": {
          "base_uri": "https://localhost:8080/"
        },
        "id": "p8cvxyzrEC7y",
        "outputId": "405ab509-0d2c-4908-f643-585b2e606c50"
      },
      "source": [
        "pred0 = predictions[0]\n",
        "pred0"
      ],
      "execution_count": 19,
      "outputs": [
        {
          "output_type": "execute_result",
          "data": {
            "text/plain": [
              "<tf.Tensor: shape=(10,), dtype=float32, numpy=\n",
              "array([1.8761652e-07, 4.5583253e-08, 1.2662028e-05, 9.3173597e-04,\n",
              "       1.1319991e-10, 3.8295639e-07, 4.5894213e-10, 9.9902880e-01,\n",
              "       8.1286589e-06, 1.7997450e-05], dtype=float32)>"
            ]
          },
          "metadata": {
            "tags": []
          },
          "execution_count": 19
        }
      ]
    },
    {
      "cell_type": "code",
      "metadata": {
        "colab": {
          "base_uri": "https://localhost:8080/"
        },
        "id": "35vV2Il-EH4K",
        "outputId": "46b1f917-a571-4b02-bc97-8f133a8ff1d6"
      },
      "source": [
        "label0 = np.argmax(pred0)\n",
        "label0"
      ],
      "execution_count": 20,
      "outputs": [
        {
          "output_type": "execute_result",
          "data": {
            "text/plain": [
              "7"
            ]
          },
          "metadata": {
            "tags": []
          },
          "execution_count": 20
        }
      ]
    },
    {
      "cell_type": "code",
      "metadata": {
        "colab": {
          "base_uri": "https://localhost:8080/"
        },
        "id": "uEHqFkZ-EOEK",
        "outputId": "0fec104a-69f2-4dcb-e14c-1ef9da39c91b"
      },
      "source": [
        "# model + softmax\n",
        "predictions = model(x_test)\n",
        "predictions = tf.nn.softmax(predictions)\n",
        "pred0 = predictions[0]\n",
        "label = np.argmax(pred0)\n",
        "print(label0)"
      ],
      "execution_count": 23,
      "outputs": [
        {
          "output_type": "stream",
          "text": [
            "7\n"
          ],
          "name": "stdout"
        }
      ]
    }
  ]
}